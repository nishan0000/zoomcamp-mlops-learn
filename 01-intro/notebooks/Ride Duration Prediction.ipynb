{
 "cells": [
  {
   "cell_type": "code",
   "execution_count": 2,
   "id": "8ee12c15",
   "metadata": {},
   "outputs": [],
   "source": [
    "import pandas as pd"
   ]
  },
  {
   "cell_type": "code",
   "execution_count": 5,
   "id": "c8dcc3c2",
   "metadata": {},
   "outputs": [],
   "source": [
    "df = pd.read_parquet('../data/green_tripdata_2021-01.parquet')"
   ]
  },
  {
   "cell_type": "code",
   "execution_count": 13,
   "id": "83336587",
   "metadata": {},
   "outputs": [],
   "source": [
    "# Calculating the duration in seconds\n",
    "df['duration'] = df.lpep_dropoff_datetime - df.lpep_pickup_datetime\n",
    "df.duration = df.duration.apply(lambda td : td.total_seconds() / 60)"
   ]
  },
  {
   "cell_type": "code",
   "execution_count": null,
   "id": "8b4c7ed0",
   "metadata": {},
   "outputs": [],
   "source": []
  }
 ],
 "metadata": {
  "kernelspec": {
   "display_name": "Python 3 (ipykernel)",
   "language": "python",
   "name": "python3"
  },
  "language_info": {
   "codemirror_mode": {
    "name": "ipython",
    "version": 3
   },
   "file_extension": ".py",
   "mimetype": "text/x-python",
   "name": "python",
   "nbconvert_exporter": "python",
   "pygments_lexer": "ipython3",
   "version": "3.9.7"
  }
 },
 "nbformat": 4,
 "nbformat_minor": 5
}
