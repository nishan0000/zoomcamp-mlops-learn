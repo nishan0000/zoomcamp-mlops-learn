{
 "cells": [
  {
   "cell_type": "code",
   "execution_count": 32,
   "id": "8ee12c15",
   "metadata": {},
   "outputs": [],
   "source": [
    "import pandas as pd\n",
    "import numpy as np\n",
    "import pickle\n",
    "import seaborn as sns\n",
    "import matplotlib.pyplot as plt\n",
    "from sklearn.feature_extraction import DictVectorizer\n",
    "from sklearn.linear_model import LinearRegression, Lasso, Ridge\n",
    "from sklearn.metrics import mean_squared_error\n",
    "\n",
    "import warnings\n",
    "warnings.filterwarnings('ignore')"
   ]
  },
  {
   "cell_type": "code",
   "execution_count": 24,
   "id": "c8dcc3c2",
   "metadata": {},
   "outputs": [],
   "source": [
    "def read_dataframe(file_path):\n",
    "    df = pd.read_parquet(file_path)\n",
    "\n",
    "    # Calculating the duration in seconds\n",
    "    df['duration'] = df.lpep_dropoff_datetime - df.lpep_pickup_datetime\n",
    "    df.duration = df.duration.apply(lambda td : td.total_seconds() / 60)\n",
    "\n",
    "    # Taking duration Morethan 1 minute and Lessthan 1 hour\n",
    "    df = df[(df.duration >= 1) & (df.duration <= 60)]\n",
    "\n",
    "    # Categorical and Numerical Variables to use\n",
    "    categorical = ['PULocationID', 'DOLocationID']\n",
    "\n",
    "    # One hot encoing Categorical Variables using Dictionary Vectorizer\n",
    "    df[categorical] = df[categorical].astype(str)\n",
    "    \n",
    "    return df"
   ]
  },
  {
   "cell_type": "code",
   "execution_count": 25,
   "id": "e27ed9e8",
   "metadata": {},
   "outputs": [],
   "source": [
    "# Loading dataframes\n",
    "df_train = read_dataframe('../data/green_tripdata_2021-01.parquet')\n",
    "df_val = read_dataframe('../data/green_tripdata_2021-02.parquet')"
   ]
  },
  {
   "cell_type": "code",
   "execution_count": 26,
   "id": "474f069e",
   "metadata": {},
   "outputs": [],
   "source": [
    "# Creating new columns\n",
    "df_train['PU_DO'] = df_train['PULocationID'] + '_' + df_train['DOLocationID']\n",
    "df_val['PU_DO'] = df_val['PULocationID'] + '_' + df_val['DOLocationID']"
   ]
  },
  {
   "cell_type": "code",
   "execution_count": 27,
   "id": "955dfd1e",
   "metadata": {},
   "outputs": [],
   "source": [
    "# List of columns to be used\n",
    "categorical = ['PU_DO']\n",
    "numerical = ['trip_distance']\n",
    "\n",
    "# Initializing DictVectorizer\n",
    "dv = DictVectorizer()\n",
    "\n",
    "# Collecting train dicts\n",
    "train_dicts = df_train[categorical + numerical].to_dict(orient='records')\n",
    "X_train = dv.fit_transform(train_dicts)\n",
    "\n",
    "# Collecting Val dicts\n",
    "val_dicts = df_val[categorical + numerical].to_dict(orient='records')\n",
    "X_val = dv.transform(val_dicts)"
   ]
  },
  {
   "cell_type": "code",
   "execution_count": 28,
   "id": "46b38679",
   "metadata": {},
   "outputs": [],
   "source": [
    "# Collecting train and val y data\n",
    "target = 'duration'\n",
    "y_train = df_train[target].values\n",
    "y_val = df_val[target].values"
   ]
  },
  {
   "cell_type": "code",
   "execution_count": 29,
   "id": "f639b0b0",
   "metadata": {},
   "outputs": [
    {
     "data": {
      "text/plain": [
       "7.479598548891981"
      ]
     },
     "execution_count": 29,
     "metadata": {},
     "output_type": "execute_result"
    }
   ],
   "source": [
    "# Building Model\n",
    "lr = LinearRegression()\n",
    "lr.fit(X_train, y_train)\n",
    "\n",
    "y_pred = lr.predict(X_val)\n",
    "\n",
    "np.sqrt(mean_squared_error(y_val, y_pred))"
   ]
  },
  {
   "cell_type": "code",
   "execution_count": 33,
   "id": "b281a499",
   "metadata": {},
   "outputs": [],
   "source": [
    "# Saving the model\n",
    "with open('../models/lin_reg.bin', 'wb') as f_out:\n",
    "    pickle.dump((dv, lr), f_out)"
   ]
  },
  {
   "cell_type": "code",
   "execution_count": null,
   "id": "69a95fc2",
   "metadata": {},
   "outputs": [],
   "source": []
  }
 ],
 "metadata": {
  "kernelspec": {
   "display_name": "Python 3 (ipykernel)",
   "language": "python",
   "name": "python3"
  },
  "language_info": {
   "codemirror_mode": {
    "name": "ipython",
    "version": 3
   },
   "file_extension": ".py",
   "mimetype": "text/x-python",
   "name": "python",
   "nbconvert_exporter": "python",
   "pygments_lexer": "ipython3",
   "version": "3.9.7"
  }
 },
 "nbformat": 4,
 "nbformat_minor": 5
}
